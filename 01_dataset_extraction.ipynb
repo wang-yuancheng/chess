{
 "cells": [
  {
   "cell_type": "code",
   "execution_count": 1,
   "id": "6a556080-2188-45bf-90de-44c12b252e9c",
   "metadata": {},
   "outputs": [],
   "source": [
    "from pathlib import Path\n",
    "from typing import Dict, Iterator, Optional, Any\n",
    "import chess.pgn"
   ]
  },
  {
   "cell_type": "code",
   "execution_count": 2,
   "id": "6b96090a",
   "metadata": {},
   "outputs": [],
   "source": [
    "def iter_games(pgn_path: Path) -> Iterator[chess.pgn.Game]:\n",
    "    \"\"\"Yield games one by one from a PGN file\"\"\"\n",
    "    \n",
    "    if pgn_path.suffix.lower() != \".pgn\":\n",
    "        raise ValueError(f\"Expected a .pgn file, got: {pgn_path.suffix}\")\n",
    "    \n",
    "    with open(pgn_path, \"r\", encoding=\"utf-8\", errors=\"replace\") as f:\n",
    "        while True:\n",
    "            game = chess.pgn.read_game(f)\n",
    "            if game is None:\n",
    "                break\n",
    "            yield game"
   ]
  },
  {
   "cell_type": "code",
   "execution_count": null,
   "id": "4b17632e-1520-4e47-8291-38fe3a2c9648",
   "metadata": {},
   "outputs": [],
   "source": [
    "def pgn_to_dict(chess_games_folder: Path) -> Dict[str, Optional[int]]:\n",
    "    \"\"\"From a folder of pgn files, yield a dictionary of deduplicated fen strings\"\"\"  \n",
    "      \n",
    "    pgn_generator = chess_games_folder.iterdir()\n",
    "    fens = {}           \n",
    "\n",
    "    while True:\n",
    "        try:\n",
    "            pgn_file = next(pgn_generator)\n",
    "        except StopIteration:\n",
    "            break\n",
    "\n",
    "        for game in iter_games(pgn_file):\n",
    "            board = game.board()\n",
    "\n",
    "            # Save the initial game position\n",
    "            starting_pos = board.fen()\n",
    "            if starting_pos not in fens:\n",
    "                fens[starting_pos] = None\n",
    "\n",
    "            for move in game.mainline_moves():\n",
    "                try:\n",
    "                    board.push(move)\n",
    "                    fen = board.fen()\n",
    "                    if fen not in fens:\n",
    "                        fens[fen] = None\n",
    "                except ValueError as e:\n",
    "                    print(f\"Skipping illegal move in {pgn_file}:{e}\")            \n",
    "\n",
    "\n",
    "    print(f\"{len(fens)} positions loaded.\")"
   ]
  },
  {
   "cell_type": "code",
   "execution_count": 6,
   "id": "4db81291",
   "metadata": {},
   "outputs": [
    {
     "name": "stderr",
     "output_type": "stream",
     "text": [
      "illegal san: 'dxe6' in rn1q1rk1/pbp1b1pp/1p1p4/3Ppp2/2P1P3/2B2NP1/PP3PBP/R2Q1RK1 w - - 1 12 while parsing <Game at 0x23afaf11990 ('Burger Karl (USA)' vs. 'Tai', '1990.??.??' at 'USA')>\n",
      "illegal san: 'Nb4' in 4Qk2/pppb2p1/2np3p/2b5/2B2Bnq/2N5/PP4PP/4RR1K b - - 0 18 while parsing <Game at 0x23afb76b280 ('Charousek R' vs. 'Volner', '1893.??.??' at 'Vienna')>\n",
      "illegal san: 'Qcd7' in 2QQ4/5ppk/8/7r/1q1Pq3/3BP2P/8/4K3 w - - 4 53 while parsing <Game at 0x23a85f62470 ('Short' vs. 'Hebden, M.', '1982.??.??' at 'Hastings')>\n",
      "illegal san: 'Qd3' in 8/p5kp/1p4p1/P1P5/7P/2P1Q3/3K2q1/8 w - - 2 43 while parsing <Game at 0x23aef5323e0 ('Kamsky,Gata' vs. 'Short,Nigel', '1990.??.??' at 'Tilburg')>\n",
      "illegal san: 'Rxa8' in R3r1k1/2b3p1/2p3qp/1p1n1pN1/3P4/2P2QP1/1P1BrP1P/3R2K1 w - - 0 27 while parsing <Game at 0x23aef29fd90 ('Anand Viswanathan' vs. 'Kamsky Gata', '1994.??.??' at 'Sanghi Nagar (India)')>\n",
      "illegal san: 'Rxd2' in R3r1k1/2b3p1/2p3qp/1p1n1pN1/3P4/2P2QP1/1P1BrP1P/3R2K1 w - - 0 27 while parsing <Game at 0x23aef29fd90 ('Anand Viswanathan' vs. 'Kamsky Gata', '1994.??.??' at 'Sanghi Nagar (India)', 1 errors)>\n",
      "illegal san: 'R8e3' in R3r1k1/2b3p1/2p3qp/1p1n1pN1/3P4/2P2QP1/1P1BrP1P/3R2K1 w - - 0 27 while parsing <Game at 0x23aef29fd90 ('Anand Viswanathan' vs. 'Kamsky Gata', '1994.??.??' at 'Sanghi Nagar (India)', 2 errors)>\n"
     ]
    },
    {
     "name": "stdout",
     "output_type": "stream",
     "text": [
      "6083549 positions loaded.\n"
     ]
    }
   ],
   "source": [
    "chess_games_folder = Path(\"./chess_games\")\n",
    "pgn_to_dict(chess_games_folder)"
   ]
  }
 ],
 "metadata": {
  "kernelspec": {
   "display_name": "Giraffe",
   "language": "python",
   "name": "giraffe"
  },
  "language_info": {
   "codemirror_mode": {
    "name": "ipython",
    "version": 3
   },
   "file_extension": ".py",
   "mimetype": "text/x-python",
   "name": "python",
   "nbconvert_exporter": "python",
   "pygments_lexer": "ipython3",
   "version": "3.10.11"
  }
 },
 "nbformat": 4,
 "nbformat_minor": 5
}
