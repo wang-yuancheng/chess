{
 "cells": [
  {
   "cell_type": "code",
   "execution_count": 15,
   "id": "6a556080-2188-45bf-90de-44c12b252e9c",
   "metadata": {},
   "outputs": [],
   "source": [
    "from pathlib import Path\n",
    "from typing import Dict, Iterator, Optional, Any\n",
    "import chess.pgn"
   ]
  },
  {
   "cell_type": "code",
   "execution_count": 16,
   "id": "6b96090a",
   "metadata": {},
   "outputs": [],
   "source": [
    "def iter_games(pgn_path: Path) -> Iterator[chess.pgn.Game]:\n",
    "    \"\"\"Yield games one by one from a PGN file\"\"\"\n",
    "    \n",
    "    if pgn_path.suffix.lower() != \".pgn\":\n",
    "        raise ValueError(f\"Expected a .pgn file, got: {pgn_path.suffix}\")\n",
    "    \n",
    "    with open(pgn_path, \"r\", encoding=\"utf-8\", errors=\"replace\") as f:\n",
    "        while True:\n",
    "            game = chess.pgn.read_game(f)\n",
    "            if game is None:\n",
    "                break\n",
    "            yield game"
   ]
  },
  {
   "cell_type": "code",
   "execution_count": 17,
   "id": "4b17632e-1520-4e47-8291-38fe3a2c9648",
   "metadata": {},
   "outputs": [],
   "source": [
    "def pgn_to_db(chess_games_folder: Path, c, conn):\n",
    "    \"\"\"Read PGN files and insert FEN positions into the database\"\"\"       \n",
    "\n",
    "    for pgn_file in chess_games_folder.iterdir():\n",
    "        for game in iter_games(pgn_file):\n",
    "            board = game.board()\n",
    "            fen = board.fen()\n",
    "            c.execute(\"INSERT OR IGNORE INTO positions (fen) VALUES (?)\", (fen,))\n",
    "\n",
    "            for move in game.mainline_moves():\n",
    "                try:\n",
    "                    board.push(move)\n",
    "                    fen = board.fen()\n",
    "                    c.execute(\"INSERT OR IGNORE INTO positions (fen) VALUES (?)\", (fen,))\n",
    "                except ValueError as e:\n",
    "                    print(f\"Skipping illegal move in {pgn_file}:{e}\")            \n",
    "\n",
    "    conn.commit()\n",
    "\n",
    "    c.execute(\"SELECT COUNT(*) from positions\")\n",
    "    total = c.fetchone()[0]\n",
    "    print(f\"{total} positions loaded.\")"
   ]
  },
  {
   "cell_type": "code",
   "execution_count": 18,
   "id": "3399896b",
   "metadata": {},
   "outputs": [
    {
     "name": "stdout",
     "output_type": "stream",
     "text": [
      "16835 positions loaded.\n"
     ]
    }
   ],
   "source": [
    "import sqlite3\n",
    "\n",
    "conn = sqlite3.connect(\"positions.db\")\n",
    "\n",
    "c = conn.cursor()\n",
    "\n",
    "c.execute(\"\"\"\n",
    "          CREATE TABLE IF NOT EXISTS positions (\n",
    "          id INTEGER PRIMARY KEY,\n",
    "          fen TEXT UNIQUE NOT NULL,\n",
    "          stockfish_score REAL,\n",
    "          label TEXT\n",
    "        )\n",
    "\"\"\")\n",
    "\n",
    "conn.commit()\n",
    "\n",
    "chess_games_folder = Path(\"./chess_games_sample\")\n",
    "pgn_to_db(chess_games_folder, c, conn)\n",
    "\n",
    "conn.close()"
   ]
  },
  {
   "cell_type": "code",
   "execution_count": null,
   "id": "02e823f6",
   "metadata": {},
   "outputs": [],
   "source": [
    "# Todo: Connect Stockfish"
   ]
  }
 ],
 "metadata": {
  "kernelspec": {
   "display_name": "Giraffe",
   "language": "python",
   "name": "giraffe"
  },
  "language_info": {
   "codemirror_mode": {
    "name": "ipython",
    "version": 3
   },
   "file_extension": ".py",
   "mimetype": "text/x-python",
   "name": "python",
   "nbconvert_exporter": "python",
   "pygments_lexer": "ipython3",
   "version": "3.10.11"
  }
 },
 "nbformat": 4,
 "nbformat_minor": 5
}
