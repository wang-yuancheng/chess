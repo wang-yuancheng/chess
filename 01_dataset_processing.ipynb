{
 "cells": [
  {
   "cell_type": "code",
   "execution_count": 12,
   "id": "6a556080-2188-45bf-90de-44c12b252e9c",
   "metadata": {},
   "outputs": [],
   "source": [
    "from pathlib import Path\n",
    "from typing import Dict, Iterator, Optional, Any\n",
    "from enum import Enum\n",
    "import sys, asyncio\n",
    "import chess\n",
    "import chess.pgn\n",
    "import chess.engine"
   ]
  },
  {
   "cell_type": "code",
   "execution_count": 3,
   "id": "6b96090a",
   "metadata": {},
   "outputs": [],
   "source": [
    "def iter_games(pgn_path: Path) -> Iterator[chess.pgn.Game]:\n",
    "    \"\"\"Yield games one by one from a PGN file\"\"\"\n",
    "    \n",
    "    if pgn_path.suffix.lower() != \".pgn\":\n",
    "        raise ValueError(f\"Expected a .pgn file, got: {pgn_path.suffix}\")\n",
    "    \n",
    "    with open(pgn_path, \"r\", encoding=\"utf-8\", errors=\"replace\") as f:\n",
    "        while True:\n",
    "            game = chess.pgn.read_game(f)\n",
    "            if game is None:\n",
    "                break\n",
    "            yield game"
   ]
  },
  {
   "cell_type": "code",
   "execution_count": 4,
   "id": "4b17632e-1520-4e47-8291-38fe3a2c9648",
   "metadata": {},
   "outputs": [],
   "source": [
    "def pgn_to_db(chess_games_folder: Path, c, conn):\n",
    "    \"\"\"Read PGN files and insert FEN positions into the database\"\"\"       \n",
    "\n",
    "    for pgn_file in chess_games_folder.iterdir():\n",
    "        for game in iter_games(pgn_file):\n",
    "            board = game.board()\n",
    "            fen = board.fen()\n",
    "            c.execute(\"INSERT OR IGNORE INTO positions (fen) VALUES (?)\", (fen,))\n",
    "\n",
    "            for move in game.mainline_moves():\n",
    "                try:\n",
    "                    board.push(move)\n",
    "                    fen = board.fen()\n",
    "                    c.execute(\"INSERT OR IGNORE INTO positions (fen) VALUES (?)\", (fen,))\n",
    "                except ValueError as e:\n",
    "                    print(f\"Skipping illegal move in {pgn_file}:{e}\")            \n",
    "\n",
    "    conn.commit()\n",
    "\n",
    "    c.execute(\"SELECT COUNT(*) from positions\")\n",
    "    total = c.fetchone()[0]\n",
    "    print(f\"{total} positions loaded.\")"
   ]
  },
  {
   "cell_type": "code",
   "execution_count": 5,
   "id": "3399896b",
   "metadata": {},
   "outputs": [
    {
     "name": "stdout",
     "output_type": "stream",
     "text": [
      "16835 positions loaded.\n"
     ]
    }
   ],
   "source": [
    "import sqlite3\n",
    "\n",
    "conn = sqlite3.connect(\"positions.db\")\n",
    "\n",
    "c = conn.cursor()\n",
    "\n",
    "c.execute(\"\"\"\n",
    "          CREATE TABLE IF NOT EXISTS positions (\n",
    "          id INTEGER PRIMARY KEY,\n",
    "          fen TEXT UNIQUE NOT NULL,\n",
    "          stockfish_score REAL,\n",
    "          label TEXT\n",
    "        )\n",
    "\"\"\")\n",
    "\n",
    "conn.commit()\n",
    "\n",
    "chess_games_folder = Path(\"./chess_games_sample\")\n",
    "pgn_to_db(chess_games_folder, c, conn)\n",
    "\n",
    "conn.close()"
   ]
  },
  {
   "cell_type": "code",
   "execution_count": 6,
   "id": "27535a7b",
   "metadata": {},
   "outputs": [
    {
     "name": "stdout",
     "output_type": "stream",
     "text": [
      "Initial Policy: WindowsSelectorEventLoopPolicy\n",
      "New Policy: WindowsProactorEventLoopPolicy\n"
     ]
    }
   ],
   "source": [
    "\"\"\"\n",
    "Why this cell exists:\n",
    "- python-chess launches Stockfish via asyncio.subprocess_exec.\n",
    "- On Windows, the Selector event loop cannot create subprocesses, it raises NotImplementedError.\n",
    "- Some Jupyter kernels on Windows start with the Selector policy by default.\n",
    "- Switching to WindowsProactorEventLoopPolicy enables subprocess support in this notebook.\n",
    "\n",
    "How to use:\n",
    "- Run this cell once before creating the engine.\n",
    "- On macOS or Linux this does nothing and is safe.\n",
    "\"\"\"\n",
    "\n",
    "print(f\"Initial Policy: {type(asyncio.get_event_loop_policy()).__name__}\")\n",
    "if sys.platform.startswith(\"win\"):\n",
    "    asyncio.set_event_loop_policy(asyncio.WindowsProactorEventLoopPolicy())\n",
    "print(f\"New Policy: {type(asyncio.get_event_loop_policy()).__name__}\")\n"
   ]
  },
  {
   "cell_type": "code",
   "execution_count": null,
   "id": "31a3a831",
   "metadata": {},
   "outputs": [],
   "source": [
    "def get_centipawn_score(fen: str, engine: chess.engine.SimpleEngine, depth: int) -> int:\n",
    "    \"\"\"Gives centipawn score for a fen string\"\"\"\n",
    "    \n",
    "    board = chess.Board(fen)\n",
    "    info = engine.analyse(board=board, limit=chess.engine.Limit(depth=depth))\n",
    "    \n",
    "    # If there is a forced mate, score is very large\n",
    "    centipawn_score = info[\"score\"].pov(chess.WHITE).score(mate_score=100000)\n",
    "\n",
    "    return centipawn_score"
   ]
  },
  {
   "cell_type": "code",
   "execution_count": 10,
   "id": "702bd27b",
   "metadata": {},
   "outputs": [
    {
     "name": "stdout",
     "output_type": "stream",
     "text": [
      "Engine started.\n",
      "66\n",
      "Engine quit cleanly.\n"
     ]
    }
   ],
   "source": [
    "stockfish_executable_path = Path(\"./stockfish/stockfish-windows-x86-64-avx2.exe\")\n",
    "engine = chess.engine.SimpleEngine.popen_uci(stockfish_executable_path)\n",
    "print(\"Engine started.\")\n",
    "\n",
    "sample_fen = \"rr6/4k2p/3bpp2/pPN2bp1/NnpP4/2B1P1P1/3K1P1P/R1R5 w - - 0 31\"\n",
    "\n",
    "centipawn_score = get_centipawn_score(fen=sample_fen, engine=engine, depth=10)\n",
    "print(centipawn_score)\n",
    "\n",
    "engine.quit()\n",
    "print(\"Engine quit cleanly.\")"
   ]
  },
  {
   "cell_type": "code",
   "execution_count": 13,
   "id": "09fa9552",
   "metadata": {},
   "outputs": [],
   "source": [
    "class PositionLabel(Enum):\n",
    "    WHITE_WINNING = 0\n",
    "    WHITE_DECISIVE = 1\n",
    "    WHITE_BETTER = 2\n",
    "    EQUAL = 3\n",
    "    BLACK_BETTER = 4\n",
    "    BLACK_DECISIVE = 5\n",
    "    BLACK_WINNING = 6\n",
    "\n",
    "    # WHITE_MATE = \n",
    "    # BLACK_MATE = "
   ]
  },
  {
   "cell_type": "code",
   "execution_count": null,
   "id": "63d658b0",
   "metadata": {},
   "outputs": [],
   "source": [
    "def classify_centipawn_score(cp: int) -> str:\n",
    "    \"\"\"\n",
    "    Classify a centipawn evaluation into a categorical label.\n",
    "    \n",
    "    To get the numerical representation of a PositionLabel, use the .value attribute.\n",
    "\n",
    "    Mapping (centipawns → label):\n",
    "        cp >= +500        → White is winning\n",
    "        +500 > cp >= +300 → White has a decisive advantage\n",
    "        +300 > cp >= +100 → White is better\n",
    "        +100 > cp > -100  → The position is equal\n",
    "        -100 >= cp > -300 → Black is better\n",
    "        -300 > cp >= -500 → Black has a decisive advantage\n",
    "        cp <= -500        → Black is winning\n",
    "\n",
    "    Todo: Extremely large values (mate scores) are not explicitly handled yet.\n",
    "    \"\"\"\n",
    "\n",
    "    if cp >= 500: return PositionLabel.WHITE_WINNING\n",
    "    if 500 > cp >= 300: return PositionLabel.WHITE_DECISIVE\n",
    "    if 300 > cp >= 100: return PositionLabel.WHITE_BETTER\n",
    "    if 100 > cp > -100: return PositionLabel.EQUAL\n",
    "    if -100 >= cp > -300: return PositionLabel.BLACK_BETTER\n",
    "    if -300 > cp >= -500: return PositionLabel.BLACK_DECISIVE\n",
    "    return PositionLabel.BLACK_WINNING"
   ]
  },
  {
   "cell_type": "code",
   "execution_count": null,
   "id": "df4eb4de",
   "metadata": {},
   "outputs": [],
   "source": []
  }
 ],
 "metadata": {
  "kernelspec": {
   "display_name": "Giraffe",
   "language": "python",
   "name": "giraffe"
  },
  "language_info": {
   "codemirror_mode": {
    "name": "ipython",
    "version": 3
   },
   "file_extension": ".py",
   "mimetype": "text/x-python",
   "name": "python",
   "nbconvert_exporter": "python",
   "pygments_lexer": "ipython3",
   "version": "3.10.11"
  }
 },
 "nbformat": 4,
 "nbformat_minor": 5
}
